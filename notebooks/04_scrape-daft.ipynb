{
 "cells": [
  {
   "cell_type": "code",
   "execution_count": 22,
   "metadata": {},
   "outputs": [],
   "source": [
    "import requests\n",
    "import urllib\n",
    "from bs4 import BeautifulSoup\n",
    "import bs4\n",
    "import pandas as pd"
   ]
  },
  {
   "cell_type": "code",
   "execution_count": 2,
   "metadata": {},
   "outputs": [],
   "source": [
    "r = requests.get(url=\"https://www.daft.ie/price-register/dublin-city/\", params={\"min_price\":25000,\n",
    "                                                                            \"max_price\":1000000,\"pagenum\":3677},\n",
    "                timeout=100, proxies=urllib.request.getproxies(),\n",
    "                headers={'User-Agent': 'Mozilla/5.0 (Windows NT 6.0; WOW64; rv:24.0) Gecko/20100101 Firefox/24.0'})"
   ]
  },
  {
   "cell_type": "code",
   "execution_count": 3,
   "metadata": {},
   "outputs": [],
   "source": [
    "soup = BeautifulSoup(r.content, 'html.parser')"
   ]
  },
  {
   "cell_type": "code",
   "execution_count": 4,
   "metadata": {},
   "outputs": [],
   "source": [
    "ppr = soup.find_all(\"div\", {\"class\":\"priceregister-searchresult\"})"
   ]
  },
  {
   "cell_type": "code",
   "execution_count": 8,
   "metadata": {},
   "outputs": [
    {
     "data": {
      "text/plain": [
       "<div class=\"priceregister-searchresult\">\n",
       "<span class=\"priceregister-address\">\n",
       "        29\n",
       "        <a href=\"/price-register/dublin/blackrock/carysfort-woods/\">Carysfort Woods</a>,\n",
       "        <a href=\"/price-register/dublin/blackrock/\">Blackrock</a>,\n",
       "        <a href=\"/price-register/dublin/\">Co. Dublin</a>\n",
       "</span>\n",
       "<span class=\"priceregister-dwelling-details\">\n",
       "<b>€547,500</b>\n",
       "        | 04/01/10\n",
       "        | Second-Hand Dwelling House/Apartment\n",
       "            </span>\n",
       "<span class=\"priceregister-status-box\">\n",
       "<img alt=\"SOLD\" height=\"15\" src=\"https://c1.dmstatic.com/890/i/sold_icon.png\" width=\"38\"/>\n",
       "</span>\n",
       "</div>"
      ]
     },
     "execution_count": 8,
     "metadata": {},
     "output_type": "execute_result"
    }
   ],
   "source": [
    "sr = ppr[0]\n",
    "sr"
   ]
  },
  {
   "cell_type": "code",
   "execution_count": 12,
   "metadata": {},
   "outputs": [
    {
     "data": {
      "text/plain": [
       "['\\n        29\\n        ',\n",
       " <a href=\"/price-register/dublin/blackrock/carysfort-woods/\">Carysfort Woods</a>,\n",
       " ',\\n        ',\n",
       " <a href=\"/price-register/dublin/blackrock/\">Blackrock</a>,\n",
       " ',\\n        ',\n",
       " <a href=\"/price-register/dublin/\">Co. Dublin</a>,\n",
       " '\\n']"
      ]
     },
     "execution_count": 12,
     "metadata": {},
     "output_type": "execute_result"
    }
   ],
   "source": [
    "addr = sr.find(\"span\", \"priceregister-address\").contents\n",
    "addr"
   ]
  },
  {
   "cell_type": "code",
   "execution_count": 16,
   "metadata": {},
   "outputs": [
    {
     "data": {
      "text/plain": [
       "[bs4.element.NavigableString,\n",
       " bs4.element.Tag,\n",
       " bs4.element.NavigableString,\n",
       " bs4.element.Tag,\n",
       " bs4.element.NavigableString,\n",
       " bs4.element.Tag,\n",
       " bs4.element.NavigableString]"
      ]
     },
     "execution_count": 16,
     "metadata": {},
     "output_type": "execute_result"
    }
   ],
   "source": [
    "[type(x) for x in addr]"
   ]
  },
  {
   "cell_type": "code",
   "execution_count": 26,
   "metadata": {},
   "outputs": [
    {
     "data": {
      "text/plain": [
       "'29'"
      ]
     },
     "execution_count": 26,
     "metadata": {},
     "output_type": "execute_result"
    }
   ],
   "source": [
    "addr[0].strip()"
   ]
  },
  {
   "cell_type": "code",
   "execution_count": 32,
   "metadata": {},
   "outputs": [
    {
     "data": {
      "text/plain": [
       "'29 Carysfort Woods, Blackrock, Co. Dublin'"
      ]
     },
     "execution_count": 32,
     "metadata": {},
     "output_type": "execute_result"
    }
   ],
   "source": [
    "\" \".join([x.contents[0].strip() if type(x) is bs4.element.Tag else x.strip() for x in addr]).replace(\" ,\", \",\").strip()"
   ]
  },
  {
   "cell_type": "code",
   "execution_count": 34,
   "metadata": {},
   "outputs": [
    {
     "data": {
      "text/plain": [
       "['\\n',\n",
       " <b>€547,500</b>,\n",
       " '\\n        | 04/01/10\\n        | Second-Hand Dwelling House/Apartment\\n            ']"
      ]
     },
     "execution_count": 34,
     "metadata": {},
     "output_type": "execute_result"
    }
   ],
   "source": [
    "det = sr.find(\"span\", \"priceregister-dwelling-details\").contents\n",
    "det"
   ]
  },
  {
   "cell_type": "code",
   "execution_count": 39,
   "metadata": {},
   "outputs": [
    {
     "data": {
      "text/plain": [
       "'€547,500'"
      ]
     },
     "execution_count": 39,
     "metadata": {},
     "output_type": "execute_result"
    }
   ],
   "source": [
    "price = det[1].contents[0].strip()\n",
    "price"
   ]
  },
  {
   "cell_type": "code",
   "execution_count": 40,
   "metadata": {},
   "outputs": [
    {
     "data": {
      "text/plain": [
       "['', '04/01/10', 'Second-Hand Dwelling House/Apartment']"
      ]
     },
     "execution_count": 40,
     "metadata": {},
     "output_type": "execute_result"
    }
   ],
   "source": [
    "info = det[2].strip().split(\"|\")\n",
    "info = [x.strip() for x in info]\n",
    "info"
   ]
  },
  {
   "cell_type": "code",
   "execution_count": 26,
   "metadata": {},
   "outputs": [],
   "source": [
    "r = requests.get(url=\"https://www.daft.ie/price-register/dublin-city/\", params={\"min_price\":25000,\n",
    "                                                                            \"max_price\":1000000,\"pagenum\":4677},\n",
    "                timeout=100, proxies=urllib.request.getproxies(),\n",
    "                headers={'User-Agent': 'Mozilla/5.0 (Windows NT 6.0; WOW64; rv:24.0) Gecko/20100101 Firefox/24.0'})"
   ]
  },
  {
   "cell_type": "code",
   "execution_count": 27,
   "metadata": {},
   "outputs": [],
   "source": [
    "soup = BeautifulSoup(r.content, 'html.parser')"
   ]
  },
  {
   "cell_type": "code",
   "execution_count": 28,
   "metadata": {},
   "outputs": [],
   "source": [
    "ppr = soup.find_all(\"div\", {\"class\":\"priceregister-searchresult\"})"
   ]
  },
  {
   "cell_type": "code",
   "execution_count": 29,
   "metadata": {},
   "outputs": [
    {
     "data": {
      "text/plain": [
       "[]"
      ]
     },
     "execution_count": 29,
     "metadata": {},
     "output_type": "execute_result"
    }
   ],
   "source": [
    "ppr"
   ]
  },
  {
   "cell_type": "code",
   "execution_count": 59,
   "metadata": {},
   "outputs": [],
   "source": [
    "def get_page_results(page):\n",
    "    r = requests.get(url=\"https://www.daft.ie/price-register/dublin-city/\", params={\"min_price\":25000,\n",
    "                                                                            \"max_price\":1000000,\"pagenum\":page},\n",
    "                timeout=100, proxies=urllib.request.getproxies(),\n",
    "                headers={'User-Agent': 'Mozilla/5.0 (Windows NT 6.0; WOW64; rv:24.0) Gecko/20100101 Firefox/24.0'})\n",
    "    soup = BeautifulSoup(r.content, 'html.parser')\n",
    "    ppr = soup.find_all(\"div\", {\"class\":\"priceregister-searchresult\"})\n",
    "    ret = []\n",
    "    for sr in ppr:\n",
    "        addr = sr.find(\"span\", \"priceregister-address\").contents\n",
    "        ret_addr = \" \".join([\"\".join(x.contents).strip()\n",
    "                                       if type(x) is bs4.element.Tag\n",
    "                                       else x.strip()\n",
    "                                   for x in addr])\\\n",
    "                             .replace(\" ,\", \",\").strip()\n",
    "        det = sr.find(\"span\", \"priceregister-dwelling-details\").contents\n",
    "        ret_price = det[1].contents[0].strip()\n",
    "        info = det[2].strip().split(\"|\")\n",
    "        ret_detail = [x.strip() for x in info]\n",
    "        ret.append((ret_addr, ret_price, ret_detail))\n",
    "        \n",
    "    return ret"
   ]
  },
  {
   "cell_type": "code",
   "execution_count": 54,
   "metadata": {},
   "outputs": [],
   "source": [
    "all_pages = [get_page_results(x) for x in range(100)]"
   ]
  },
  {
   "cell_type": "code",
   "execution_count": 55,
   "metadata": {},
   "outputs": [],
   "source": [
    "pd.DataFrame([x for sl in all_pages for x in sl], columns=[\"address\", \"price\", \"details\"]).to_csv(\"../data/daft.csv\", sep=\"\\t\", index=False)"
   ]
  },
  {
   "cell_type": "code",
   "execution_count": 60,
   "metadata": {},
   "outputs": [],
   "source": [
    "all_pages = [get_page_results(x) for x in range(4000)]"
   ]
  },
  {
   "cell_type": "code",
   "execution_count": 61,
   "metadata": {},
   "outputs": [],
   "source": [
    "pd.DataFrame([x for sl in all_pages for x in sl], columns=[\"address\", \"price\", \"details\"]).to_csv(\"../data/daft.csv\", sep=\"\\t\", index=False)"
   ]
  },
  {
   "cell_type": "code",
   "execution_count": null,
   "metadata": {},
   "outputs": [],
   "source": []
  }
 ],
 "metadata": {
  "kernelspec": {
   "display_name": "Python 3",
   "language": "python",
   "name": "python3"
  },
  "language_info": {
   "codemirror_mode": {
    "name": "ipython",
    "version": 3
   },
   "file_extension": ".py",
   "mimetype": "text/x-python",
   "name": "python",
   "nbconvert_exporter": "python",
   "pygments_lexer": "ipython3",
   "version": "3.7.1"
  }
 },
 "nbformat": 4,
 "nbformat_minor": 2
}
